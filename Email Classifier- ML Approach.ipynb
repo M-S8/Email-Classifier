{
 "cells": [
  {
   "cell_type": "code",
   "execution_count": 1,
   "id": "8fb55aa5",
   "metadata": {},
   "outputs": [],
   "source": [
    "import pandas as pd\n",
    "import numpy as np\n",
    "import matplotlib.pyplot as plt\n",
    "import re\n",
    "from nltk import WordNetLemmatizer\n",
    "import spacy\n",
    "import imblearn\n",
    "from collections import Counter\n",
    "from imblearn.over_sampling import SMOTEN\n",
    "from sklearn.model_selection import train_test_split\n",
    "from sklearn.preprocessing import LabelEncoder\n",
    "from sklearn.feature_extraction.text import TfidfVectorizer\n",
    "from sklearn.metrics import classification_report"
   ]
  },
  {
   "cell_type": "code",
   "execution_count": 2,
   "id": "93611040",
   "metadata": {},
   "outputs": [
    {
     "data": {
      "text/html": [
       "<div>\n",
       "<style scoped>\n",
       "    .dataframe tbody tr th:only-of-type {\n",
       "        vertical-align: middle;\n",
       "    }\n",
       "\n",
       "    .dataframe tbody tr th {\n",
       "        vertical-align: top;\n",
       "    }\n",
       "\n",
       "    .dataframe thead th {\n",
       "        text-align: right;\n",
       "    }\n",
       "</style>\n",
       "<table border=\"1\" class=\"dataframe\">\n",
       "  <thead>\n",
       "    <tr style=\"text-align: right;\">\n",
       "      <th></th>\n",
       "      <th>content</th>\n",
       "      <th>Class</th>\n",
       "    </tr>\n",
       "  </thead>\n",
       "  <tbody>\n",
       "    <tr>\n",
       "      <th>0</th>\n",
       "      <td>eat shit\\r\\n\\r\\n\\r\\n\\r\\n\\r\\nJohn J Lavorato@ex...</td>\n",
       "      <td>Abusive</td>\n",
       "    </tr>\n",
       "    <tr>\n",
       "      <th>1</th>\n",
       "      <td>fuck you</td>\n",
       "      <td>Abusive</td>\n",
       "    </tr>\n",
       "    <tr>\n",
       "      <th>2</th>\n",
       "      <td>Gentlemen:\\r\\nThe following champagne is avail...</td>\n",
       "      <td>Abusive</td>\n",
       "    </tr>\n",
       "    <tr>\n",
       "      <th>3</th>\n",
       "      <td>sorry i've taken so long...just been trying to...</td>\n",
       "      <td>Abusive</td>\n",
       "    </tr>\n",
       "    <tr>\n",
       "      <th>4</th>\n",
       "      <td>asshole\\r\\n\\r\\n\\r\\n\\r\\n\\r\\nJohn J Lavorato@exc...</td>\n",
       "      <td>Abusive</td>\n",
       "    </tr>\n",
       "  </tbody>\n",
       "</table>\n",
       "</div>"
      ],
      "text/plain": [
       "                                             content    Class\n",
       "0  eat shit\\r\\n\\r\\n\\r\\n\\r\\n\\r\\nJohn J Lavorato@ex...  Abusive\n",
       "1                                           fuck you  Abusive\n",
       "2  Gentlemen:\\r\\nThe following champagne is avail...  Abusive\n",
       "3  sorry i've taken so long...just been trying to...  Abusive\n",
       "4  asshole\\r\\n\\r\\n\\r\\n\\r\\n\\r\\nJohn J Lavorato@exc...  Abusive"
      ]
     },
     "execution_count": 2,
     "metadata": {},
     "output_type": "execute_result"
    }
   ],
   "source": [
    "df=pd.read_csv('H:/ExcelR Data Science/Project P72/emails1_edit.txt')\n",
    "df.drop(['Unnamed: 0', 'filename', 'Message-ID'],axis=1,inplace=True)\n",
    "df.head()"
   ]
  },
  {
   "cell_type": "markdown",
   "id": "cf4be873",
   "metadata": {},
   "source": [
    "## Exploratory Data Analysis"
   ]
  },
  {
   "cell_type": "code",
   "execution_count": 3,
   "id": "d54a1d19",
   "metadata": {},
   "outputs": [
    {
     "data": {
      "text/plain": [
       "content    0\n",
       "Class      0\n",
       "dtype: int64"
      ]
     },
     "execution_count": 3,
     "metadata": {},
     "output_type": "execute_result"
    }
   ],
   "source": [
    "# checking for null values in entire dataframe\n",
    "df.isnull().sum()"
   ]
  },
  {
   "cell_type": "code",
   "execution_count": 4,
   "id": "4fdb01a7",
   "metadata": {},
   "outputs": [
    {
     "data": {
      "text/plain": [
       "23420"
      ]
     },
     "execution_count": 4,
     "metadata": {},
     "output_type": "execute_result"
    }
   ],
   "source": [
    "# Checking for duplicates\n",
    "df.duplicated().sum()"
   ]
  },
  {
   "cell_type": "code",
   "execution_count": 5,
   "id": "0f4053d1",
   "metadata": {},
   "outputs": [
    {
     "name": "stdout",
     "output_type": "stream",
     "text": [
      "Shape of dataframe after dropping duplicates: (24656, 2)\n"
     ]
    }
   ],
   "source": [
    "# Dropping duplicates\n",
    "df.drop_duplicates(keep='first',inplace=True)\n",
    "df.reset_index(drop=True,inplace=True)\n",
    "print('Shape of dataframe after dropping duplicates:',df.shape)"
   ]
  },
  {
   "cell_type": "code",
   "execution_count": 6,
   "id": "cba4bd35",
   "metadata": {},
   "outputs": [
    {
     "data": {
      "text/plain": [
       "Non Abusive    23014\n",
       "Abusive         1642\n",
       "Name: Class, dtype: int64"
      ]
     },
     "execution_count": 6,
     "metadata": {},
     "output_type": "execute_result"
    }
   ],
   "source": [
    "# Checking balance of labels\n",
    "df['Class'].value_counts()"
   ]
  },
  {
   "cell_type": "code",
   "execution_count": 8,
   "id": "7fd4823b",
   "metadata": {},
   "outputs": [
    {
     "name": "stdout",
     "output_type": "stream",
     "text": [
      "Percent of data labelled as abusive: 6.66\n",
      "Percent of data labelled as abusive: 93.34\n"
     ]
    }
   ],
   "source": [
    "percent_abusive=(df['Class']=='Abusive').sum()/len(df)*100\n",
    "percent_nonabusive=(df['Class']=='Non Abusive').sum()/len(df)*100\n",
    "\n",
    "print('Percent of data labelled as abusive:',np.round(percent_abusive,2))\n",
    "print('Percent of data labelled as abusive:',np.round(percent_nonabusive,2))\n"
   ]
  },
  {
   "cell_type": "code",
   "execution_count": 7,
   "id": "78ceed61",
   "metadata": {},
   "outputs": [
    {
     "data": {
      "text/plain": [
       "<AxesSubplot:ylabel='Class'>"
      ]
     },
     "execution_count": 7,
     "metadata": {},
     "output_type": "execute_result"
    },
    {
     "data": {
      "image/png": "[encoded data removed]",
      "text/plain": [
       "<Figure size 576x576 with 1 Axes>"
      ]
     },
     "metadata": {},
     "output_type": "display_data"
    }
   ],
   "source": [
    "plt.figure(figsize =(8,8))\n",
    "df['Class'].value_counts().plot.pie()"
   ]
  },
  {
   "cell_type": "markdown",
   "id": "4dc33bfe",
   "metadata": {},
   "source": [
    "It's an imbalanced dataset"
   ]
  },
  {
   "cell_type": "code",
   "execution_count": 9,
   "id": "e80e96f1",
   "metadata": {},
   "outputs": [
    {
     "data": {
      "text/html": [
       "<div>\n",
       "<style scoped>\n",
       "    .dataframe tbody tr th:only-of-type {\n",
       "        vertical-align: middle;\n",
       "    }\n",
       "\n",
       "    .dataframe tbody tr th {\n",
       "        vertical-align: top;\n",
       "    }\n",
       "\n",
       "    .dataframe thead th {\n",
       "        text-align: right;\n",
       "    }\n",
       "</style>\n",
       "<table border=\"1\" class=\"dataframe\">\n",
       "  <thead>\n",
       "    <tr style=\"text-align: right;\">\n",
       "      <th></th>\n",
       "      <th>content</th>\n",
       "      <th>Class</th>\n",
       "      <th>tot_characters</th>\n",
       "    </tr>\n",
       "  </thead>\n",
       "  <tbody>\n",
       "    <tr>\n",
       "      <th>0</th>\n",
       "      <td>eat shit\\r\\n\\r\\n\\r\\n\\r\\n\\r\\nJohn J Lavorato@ex...</td>\n",
       "      <td>Abusive</td>\n",
       "      <td>245</td>\n",
       "    </tr>\n",
       "    <tr>\n",
       "      <th>1</th>\n",
       "      <td>fuck you</td>\n",
       "      <td>Abusive</td>\n",
       "      <td>8</td>\n",
       "    </tr>\n",
       "    <tr>\n",
       "      <th>2</th>\n",
       "      <td>Gentlemen:\\r\\nThe following champagne is avail...</td>\n",
       "      <td>Abusive</td>\n",
       "      <td>628</td>\n",
       "    </tr>\n",
       "    <tr>\n",
       "      <th>3</th>\n",
       "      <td>sorry i've taken so long...just been trying to...</td>\n",
       "      <td>Abusive</td>\n",
       "      <td>528</td>\n",
       "    </tr>\n",
       "    <tr>\n",
       "      <th>4</th>\n",
       "      <td>asshole\\r\\n\\r\\n\\r\\n\\r\\n\\r\\nJohn J Lavorato@exc...</td>\n",
       "      <td>Abusive</td>\n",
       "      <td>224</td>\n",
       "    </tr>\n",
       "  </tbody>\n",
       "</table>\n",
       "</div>"
      ],
      "text/plain": [
       "                                             content    Class  tot_characters\n",
       "0  eat shit\\r\\n\\r\\n\\r\\n\\r\\n\\r\\nJohn J Lavorato@ex...  Abusive             245\n",
       "1                                           fuck you  Abusive               8\n",
       "2  Gentlemen:\\r\\nThe following champagne is avail...  Abusive             628\n",
       "3  sorry i've taken so long...just been trying to...  Abusive             528\n",
       "4  asshole\\r\\n\\r\\n\\r\\n\\r\\n\\r\\nJohn J Lavorato@exc...  Abusive             224"
      ]
     },
     "execution_count": 9,
     "metadata": {},
     "output_type": "execute_result"
    }
   ],
   "source": [
    "df1=df.copy()\n",
    "df1['tot_characters']=df1['content'].apply(len)\n",
    "df1.head()"
   ]
  },
  {
   "cell_type": "code",
   "execution_count": 10,
   "id": "47eccd69",
   "metadata": {},
   "outputs": [
    {
     "data": {
      "text/plain": [
       "count     1642.000000\n",
       "mean      1737.635201\n",
       "std       2918.776038\n",
       "min          5.000000\n",
       "25%        188.250000\n",
       "50%        613.500000\n",
       "75%       2213.750000\n",
       "max      36818.000000\n",
       "Name: tot_characters, dtype: float64"
      ]
     },
     "execution_count": 10,
     "metadata": {},
     "output_type": "execute_result"
    }
   ],
   "source": [
    "#  Character statistics for Abusive class\n",
    "df1[df1['Class']=='Abusive']['tot_characters'].describe()"
   ]
  },
  {
   "cell_type": "code",
   "execution_count": 11,
   "id": "02cea9fe",
   "metadata": {},
   "outputs": [
    {
     "data": {
      "text/plain": [
       "count     23014.000000\n",
       "mean       1845.730859\n",
       "std        5608.296341\n",
       "min           1.000000\n",
       "25%         279.000000\n",
       "50%         757.000000\n",
       "75%        1773.000000\n",
       "max      275650.000000\n",
       "Name: tot_characters, dtype: float64"
      ]
     },
     "execution_count": 11,
     "metadata": {},
     "output_type": "execute_result"
    }
   ],
   "source": [
    "#  Character statistics for Non-Abusive class\n",
    "df1[df1['Class']=='Non Abusive']['tot_characters'].describe()"
   ]
  },
  {
   "cell_type": "code",
   "execution_count": 13,
   "id": "3128fe58",
   "metadata": {},
   "outputs": [
    {
     "data": {
      "text/plain": [
       "Text(0.5, 1.0, 'KDE Plot')"
      ]
     },
     "execution_count": 13,
     "metadata": {},
     "output_type": "execute_result"
    },
    {
     "data": {
      "image/png": "[encoded data removed]",
      "text/plain": [
       "<Figure size 1200x600 with 2 Axes>"
      ]
     },
     "metadata": {
      "needs_background": "light"
     },
     "output_type": "display_data"
    }
   ],
   "source": [
    "## Histogram and Density Plots tor total characters\n",
    "import seaborn as sns\n",
    "fig, ax = plt.subplots(1, 2,dpi=100, figsize=(12, 6))\n",
    "fig.suptitle(' Distribution Plots')\n",
    "\n",
    "sns.histplot(ax=ax[0],data=df1, x='tot_characters', hue='Class', kde=False, fill=True, \n",
    "            palette=sns.color_palette('bright',n_colors=2), \n",
    "            )\n",
    "ax[0].set_xlim(-1000 ,10000)\n",
    "ax[0].set_title('Hist Plot')\n",
    "# Second Plot- KDE Plot\n",
    "\n",
    "sns.kdeplot(ax=ax[1],data=df1, x='tot_characters', hue='Class',fill=True,\n",
    "            palette=sns.color_palette('bright',n_colors=2))\n",
    "ax[1].set_xlim(-7500 ,10000)\n",
    "ax[1].set_title('KDE Plot')\n"
   ]
  },
  {
   "cell_type": "code",
   "execution_count": 14,
   "id": "b687e57d",
   "metadata": {},
   "outputs": [
    {
     "data": {
      "text/plain": [
       "<AxesSubplot:xlabel='tot_characters', ylabel='Class'>"
      ]
     },
     "execution_count": 14,
     "metadata": {},
     "output_type": "execute_result"
    },
    {
     "data": {
      "image/png": "[encoded data removed]",
      "text/plain": [
       "<Figure size 480x480 with 1 Axes>"
      ]
     },
     "metadata": {
      "needs_background": "light"
     },
     "output_type": "display_data"
    }
   ],
   "source": [
    "## Box Plot\n",
    "plt.figure(figsize=(6,6),dpi=80)\n",
    "sns.boxplot(x=df1['tot_characters'], y=df1['Class'])"
   ]
  },
  {
   "cell_type": "markdown",
   "id": "642cc1f2",
   "metadata": {},
   "source": [
    "## Data Preprocessing"
   ]
  },
  {
   "cell_type": "code",
   "execution_count": 15,
   "id": "ee14f16a",
   "metadata": {},
   "outputs": [],
   "source": [
    "en = spacy.load('en_core_web_sm')\n",
    "sw_spacy = en.Defaults.stop_words\n",
    "adds= ['subject','image']\n",
    "sw_spacy.update(adds)"
   ]
  },
  {
   "cell_type": "code",
   "execution_count": 16,
   "id": "30f76c66",
   "metadata": {},
   "outputs": [],
   "source": [
    "def preprocess_text(text):\n",
    "    \n",
    "    # removing email id tags\n",
    "    text=re.sub('\\S*@\\S*\\s?',' ',text)\n",
    "    \n",
    "    # Removing url\n",
    "    text=re.sub(r'http\\S+', ' ',text)\n",
    "    \n",
    "    # removing r\\n\\ pattern\n",
    "    text=re.sub('[\\r\\n]+', ' ',text)\n",
    "    \n",
    "    # removing numbers and special characters\n",
    "    text=re.sub('[^A-Za-z ]+', ' ',text)\n",
    "    \n",
    "    # removing words beginning with capital letters\n",
    "    text= re.sub('([^.])( [A-Z]\\w*)', r'\\1',text)\n",
    "    \n",
    "    # Removing words less than lenghth 3\n",
    "    short = re.compile(r'\\W*\\b\\w{1,3}\\b')\n",
    "    text= short.sub(' ',text)\n",
    "    \n",
    "    # Converting to lowercase\n",
    "    text=text.lower()\n",
    "    \n",
    "    # Lemmatize\n",
    "    lm = WordNetLemmatizer()\n",
    "    text= lm.lemmatize(text) \n",
    "    \n",
    "    # Stopwords removal\n",
    "    text = ' '.join([word for word in text.split() if word not in sw_spacy])\n",
    "\n",
    "    # Blank lines\n",
    "    text=re.sub(r'^$\\n', '', text, flags=re.MULTILINE)\n",
    "    \n",
    "    # blank spaces\n",
    "    text=' '.join([line for line in text.split('\\n') if line.strip() != ''])\n",
    "    #text=' '.join()\n",
    "    return text"
   ]
  },
  {
   "cell_type": "code",
   "execution_count": 17,
   "id": "af89983d",
   "metadata": {},
   "outputs": [],
   "source": [
    "df['cleaned_text']= df['content'].apply(preprocess_text)"
   ]
  },
  {
   "cell_type": "code",
   "execution_count": 18,
   "id": "f718958f",
   "metadata": {},
   "outputs": [
    {
     "data": {
      "text/html": [
       "<div>\n",
       "<style scoped>\n",
       "    .dataframe tbody tr th:only-of-type {\n",
       "        vertical-align: middle;\n",
       "    }\n",
       "\n",
       "    .dataframe tbody tr th {\n",
       "        vertical-align: top;\n",
       "    }\n",
       "\n",
       "    .dataframe thead th {\n",
       "        text-align: right;\n",
       "    }\n",
       "</style>\n",
       "<table border=\"1\" class=\"dataframe\">\n",
       "  <thead>\n",
       "    <tr style=\"text-align: right;\">\n",
       "      <th></th>\n",
       "      <th>Class</th>\n",
       "      <th>Text</th>\n",
       "    </tr>\n",
       "  </thead>\n",
       "  <tbody>\n",
       "    <tr>\n",
       "      <th>0</th>\n",
       "      <td>Abusive</td>\n",
       "      <td>shit bets clev</td>\n",
       "    </tr>\n",
       "    <tr>\n",
       "      <th>1</th>\n",
       "      <td>Abusive</td>\n",
       "      <td>fuck</td>\n",
       "    </tr>\n",
       "    <tr>\n",
       "      <th>2</th>\n",
       "      <td>Abusive</td>\n",
       "      <td>gentlemen following champagne available approx...</td>\n",
       "    </tr>\n",
       "    <tr>\n",
       "      <th>3</th>\n",
       "      <td>Abusive</td>\n",
       "      <td>sorry taken long trying fend chicks life soooo...</td>\n",
       "    </tr>\n",
       "    <tr>\n",
       "      <th>4</th>\n",
       "      <td>Abusive</td>\n",
       "      <td>asshole john cant gambling problem away bills ...</td>\n",
       "    </tr>\n",
       "  </tbody>\n",
       "</table>\n",
       "</div>"
      ],
      "text/plain": [
       "     Class                                               Text\n",
       "0  Abusive                                     shit bets clev\n",
       "1  Abusive                                               fuck\n",
       "2  Abusive  gentlemen following champagne available approx...\n",
       "3  Abusive  sorry taken long trying fend chicks life soooo...\n",
       "4  Abusive  asshole john cant gambling problem away bills ..."
      ]
     },
     "execution_count": 18,
     "metadata": {},
     "output_type": "execute_result"
    }
   ],
   "source": [
    "# Dropping content column\n",
    "df.drop('content',axis=1,inplace=True)\n",
    "df.rename(columns={'cleaned_text':'Text'},inplace=True)\n",
    "df.head()"
   ]
  },
  {
   "cell_type": "code",
   "execution_count": 19,
   "id": "01b67d33",
   "metadata": {},
   "outputs": [
    {
     "name": "stdout",
     "output_type": "stream",
     "text": [
      "244\n"
     ]
    }
   ],
   "source": [
    "# Checking for empty strings in the dataframe post cleaning\n",
    "count=0\n",
    "index=[]\n",
    "for i in range (len(df['Text'])):\n",
    "    if not(len(df['Text'][i].strip())):\n",
    "        index.append(i)\n",
    "        count=count+1\n",
    "print(count)        "
   ]
  },
  {
   "cell_type": "code",
   "execution_count": 20,
   "id": "96605fb5",
   "metadata": {},
   "outputs": [
    {
     "name": "stdout",
     "output_type": "stream",
     "text": [
      "Shape of dataframe after dropping empty strings: (24412, 2)\n"
     ]
    }
   ],
   "source": [
    "# Dropping rows containing empty strings\n",
    "df.drop(index,inplace=True)\n",
    "\n",
    "df.reset_index(drop=True,inplace=True)\n",
    "\n",
    "print('Shape of dataframe after dropping empty strings:',df.shape)"
   ]
  },
  {
   "cell_type": "code",
   "execution_count": 21,
   "id": "d1b03681",
   "metadata": {},
   "outputs": [],
   "source": [
    "X= df.iloc[:,1]\n",
    "y= df.iloc[:,0]"
   ]
  },
  {
   "cell_type": "code",
   "execution_count": 22,
   "id": "e2505a6c",
   "metadata": {},
   "outputs": [
    {
     "name": "stdout",
     "output_type": "stream",
     "text": [
      "Shape of training data: (17088,)\n",
      "Shape of testing data: (7324,)\n"
     ]
    }
   ],
   "source": [
    "X_train,X_test,y_train,y_test= train_test_split(X,y,test_size=0.3,stratify= y,random_state=1)\n",
    "\n",
    "print('Shape of training data:',(X_train.shape))\n",
    "print('Shape of testing data:',(X_test.shape))"
   ]
  },
  {
   "cell_type": "markdown",
   "id": "dd83c542",
   "metadata": {},
   "source": [
    "## Resampling training data using SMOTEN"
   ]
  },
  {
   "cell_type": "code",
   "execution_count": 23,
   "id": "2ee753b3",
   "metadata": {},
   "outputs": [
    {
     "name": "stdout",
     "output_type": "stream",
     "text": [
      "Distribution of y_train before resampling: Counter({'Non Abusive': 15941, 'Abusive': 1147})\n",
      "Distribution of y_train after resampling: Counter({'Non Abusive': 15941, 'Abusive': 15941})\n"
     ]
    }
   ],
   "source": [
    "print('Distribution of y_train before resampling:',Counter(y_train))\n",
    "\n",
    "# Converting X_train from series to 2D array\n",
    "X_train= X_train.values.reshape(-1,1)\n",
    "\n",
    "# Oversampling\n",
    "oversample = SMOTEN(sampling_strategy='minority')\n",
    "X_train, y_train = oversample.fit_resample(X_train, y_train)\n",
    "print('Distribution of y_train after resampling:',Counter(y_train))"
   ]
  },
  {
   "cell_type": "code",
   "execution_count": 24,
   "id": "0c140213",
   "metadata": {},
   "outputs": [
    {
     "name": "stdout",
     "output_type": "stream",
     "text": [
      "['Abusive' 'Non Abusive']\n"
     ]
    }
   ],
   "source": [
    "## Label Encoding Y\n",
    "le= LabelEncoder()\n",
    "le.fit(y_train)\n",
    "y_train= le.transform(y_train)\n",
    "y_test = le.transform(y_test)\n",
    "\n",
    "print(le.classes_)"
   ]
  },
  {
   "cell_type": "code",
   "execution_count": 25,
   "id": "d7003356",
   "metadata": {},
   "outputs": [],
   "source": [
    "X_train1= X_train.copy()\n",
    "X_test1= X_test.copy()\n",
    "y_train1= y_train.copy()\n",
    "y_test1= y_test.copy()"
   ]
  },
  {
   "cell_type": "code",
   "execution_count": 26,
   "id": "3363042f",
   "metadata": {},
   "outputs": [],
   "source": [
    "# Converting 2D array to 1D array\n",
    "\n",
    "X_train1= X_train1.ravel()\n",
    "X_test1= X_test1.ravel()"
   ]
  },
  {
   "cell_type": "code",
   "execution_count": 27,
   "id": "4d177029",
   "metadata": {},
   "outputs": [
    {
     "name": "stdout",
     "output_type": "stream",
     "text": [
      "Min_df: 0.01 Features present: 551\n",
      "Min_df: 0.06 Features present: 37\n",
      "Min_df: 0.11 Features present: 24\n",
      "Min_df: 0.16 Features present: 20\n",
      "Min_df: 0.21 Features present: 20\n",
      "Min_df: 0.26 Features present: 20\n",
      "Min_df: 0.31 Features present: 20\n",
      "Min_df: 0.36 Features present: 20\n",
      "Min_df: 0.41 Features present: 20\n",
      "Min_df: 0.46 Features present: 20\n"
     ]
    }
   ],
   "source": [
    "# checking unique features distribution in documents\n",
    "for i in np.arange(0.01,0.50,0.05):\n",
    "    \n",
    "    tf= TfidfVectorizer(min_df= i)\n",
    "    tf.fit(X_train1)\n",
    "    tf_features=tf.get_feature_names()\n",
    "    feature_count= len(tf_features)\n",
    "    print('Min_df:',np.round(i,3), 'Features present:',feature_count)"
   ]
  },
  {
   "cell_type": "markdown",
   "id": "d7ddf66f",
   "metadata": {},
   "source": [
    "## Vectorization using TfidfVectorizer"
   ]
  },
  {
   "cell_type": "code",
   "execution_count": 28,
   "id": "26f32bea",
   "metadata": {},
   "outputs": [
    {
     "name": "stdout",
     "output_type": "stream",
     "text": [
      "Total number of terms/features present: 47434\n"
     ]
    }
   ],
   "source": [
    "tf= TfidfVectorizer()\n",
    "tf.fit(X_train1)\n",
    "tf_features=tf.get_feature_names()\n",
    "print('Total number of terms/features present:',len(tf_features))"
   ]
  },
  {
   "cell_type": "code",
   "execution_count": 29,
   "id": "38a40def",
   "metadata": {},
   "outputs": [],
   "source": [
    "X_train1=tf.transform(X_train1)\n",
    "X_test1=tf.transform(X_test1)"
   ]
  },
  {
   "cell_type": "markdown",
   "id": "f56b0dc7",
   "metadata": {},
   "source": [
    "## Model selection and cross validation"
   ]
  },
  {
   "cell_type": "code",
   "execution_count": 30,
   "id": "337bc8f3",
   "metadata": {},
   "outputs": [],
   "source": [
    "from sklearn.linear_model import SGDClassifier\n",
    "from sklearn.naive_bayes import MultinomialNB\n",
    "from sklearn.svm import LinearSVC\n",
    "\n",
    "classifiers={'MNB':MultinomialNB(),\n",
    "             'SGD':SGDClassifier(),\n",
    "             'LSVC': LinearSVC()}"
   ]
  },
  {
   "cell_type": "code",
   "execution_count": 31,
   "id": "aba1ed8c",
   "metadata": {},
   "outputs": [
    {
     "name": "stdout",
     "output_type": "stream",
     "text": [
      "MNB \t 0.933 \t 0.006\n",
      "Test data report:\n",
      "               precision    recall  f1-score   support\n",
      "\n",
      "    0-Abusive       0.59      0.08      0.14       491\n",
      "1-Non Abusive       0.94      1.00      0.97      6833\n",
      "\n",
      "     accuracy                           0.93      7324\n",
      "    macro avg       0.76      0.54      0.55      7324\n",
      " weighted avg       0.91      0.93      0.91      7324\n",
      "\n",
      "******************************\n",
      "SGD \t 0.957 \t 0.005\n",
      "Test data report:\n",
      "               precision    recall  f1-score   support\n",
      "\n",
      "    0-Abusive       0.92      0.37      0.53       491\n",
      "1-Non Abusive       0.96      1.00      0.98      6833\n",
      "\n",
      "     accuracy                           0.96      7324\n",
      "    macro avg       0.94      0.69      0.75      7324\n",
      " weighted avg       0.95      0.96      0.95      7324\n",
      "\n",
      "******************************\n",
      "LSVC \t 0.973 \t 0.004\n",
      "Test data report:\n",
      "               precision    recall  f1-score   support\n",
      "\n",
      "    0-Abusive       0.91      0.66      0.77       491\n",
      "1-Non Abusive       0.98      1.00      0.99      6833\n",
      "\n",
      "     accuracy                           0.97      7324\n",
      "    macro avg       0.94      0.83      0.88      7324\n",
      " weighted avg       0.97      0.97      0.97      7324\n",
      "\n",
      "******************************\n",
      "Time taken(s): 16.421\n"
     ]
    }
   ],
   "source": [
    "from time import time\n",
    "from sklearn.model_selection import cross_val_score\n",
    "from sklearn.model_selection import RepeatedStratifiedKFold\n",
    "\n",
    "names=['0-Abusive','1-Non Abusive']\n",
    "cv = RepeatedStratifiedKFold(n_splits=10, n_repeats=5, random_state=1)\n",
    "start = time()\n",
    "for model_type,model in zip(classifiers.keys(),classifiers.items()):\n",
    "    \n",
    "    score=cross_val_score(model[1] ,X_train1,y_train,scoring='precision',cv=cv,n_jobs=-1)\n",
    "    print(model_type,'\\t',np.mean(score).round(3),'\\t',np.std(score).round(3))\n",
    "    model[1].fit(X_train1,y_train)\n",
    "    pred= model[1].predict(X_test1)\n",
    "    print('Test data report:')\n",
    "    print(classification_report(y_test, pred,target_names=names))\n",
    "    print('*'*30)\n",
    "end = time()\n",
    "print('Time taken(s):',round(end-start,3))"
   ]
  },
  {
   "cell_type": "markdown",
   "id": "0fdb98ea",
   "metadata": {},
   "source": [
    "## Checking the effect of number of features on f1-score"
   ]
  },
  {
   "cell_type": "code",
   "execution_count": 32,
   "id": "faaded89",
   "metadata": {},
   "outputs": [],
   "source": [
    "X_train2= X_train.copy()\n",
    "X_test2= X_test.copy()\n",
    "y_train2= y_train.copy()\n",
    "y_test2= y_test.copy()"
   ]
  },
  {
   "cell_type": "code",
   "execution_count": 33,
   "id": "60eed951",
   "metadata": {},
   "outputs": [],
   "source": [
    "# Converting 2D array to 1D array\n",
    "X_train2= X_train2.ravel()\n",
    "X_test2= X_test2.ravel()"
   ]
  },
  {
   "cell_type": "code",
   "execution_count": 34,
   "id": "7f7f3a47",
   "metadata": {},
   "outputs": [
    {
     "name": "stdout",
     "output_type": "stream",
     "text": [
      "Number of features used: 10000\n",
      "MNB \t 0.964 \t 0.003\n",
      "SGD \t 0.978 \t 0.003\n",
      "LSVC \t 0.984 \t 0.002\n",
      "******************************\n",
      "Number of features used: 20000\n",
      "MNB \t 0.964 \t 0.003\n",
      "SGD \t 0.977 \t 0.003\n",
      "LSVC \t 0.984 \t 0.002\n",
      "******************************\n",
      "Number of features used: 30000\n",
      "MNB \t 0.964 \t 0.003\n",
      "SGD \t 0.977 \t 0.003\n",
      "LSVC \t 0.984 \t 0.002\n",
      "******************************\n",
      "Number of features used: 40000\n",
      "MNB \t 0.964 \t 0.003\n",
      "SGD \t 0.977 \t 0.003\n",
      "LSVC \t 0.984 \t 0.002\n",
      "******************************\n",
      "Number of features used: 47000\n",
      "MNB \t 0.964 \t 0.003\n",
      "SGD \t 0.977 \t 0.003\n",
      "LSVC \t 0.984 \t 0.002\n",
      "******************************\n",
      "Time taken(s): 160.051\n"
     ]
    }
   ],
   "source": [
    "start = time()\n",
    "num_features=[10000,20000,30000,40000,47000]\n",
    "for i in num_features:\n",
    "    \n",
    "    tf= TfidfVectorizer(max_features=i)\n",
    "    tf.fit(X_train2)\n",
    "    X_train_tf=tf.transform(X_train2)\n",
    "    print('Number of features used:',i)\n",
    "    for model_type,model in zip(classifiers.keys(),classifiers.items()):\n",
    "        score=cross_val_score(model[1] ,X_train_tf,y_train2,scoring='f1',cv=cv,n_jobs=-1)\n",
    "        print(model_type,'\\t',np.mean(score).round(3),'\\t',np.std(score).round(3))\n",
    "    print('*'*30)\n",
    "end = time()   \n",
    "print('Time taken(s):',round(end-start,3))"
   ]
  },
  {
   "cell_type": "markdown",
   "id": "c7ed358b",
   "metadata": {},
   "source": [
    "## Final model building with LSVC"
   ]
  },
  {
   "cell_type": "code",
   "execution_count": 35,
   "id": "ce0013bc",
   "metadata": {},
   "outputs": [],
   "source": [
    "X_train= X_train.ravel()\n",
    "X_test= X_test.ravel()"
   ]
  },
  {
   "cell_type": "code",
   "execution_count": 36,
   "id": "7c750be2",
   "metadata": {},
   "outputs": [],
   "source": [
    "tf= TfidfVectorizer(max_features=40000)\n",
    "tf.fit(X_train)\n",
    "X_train=tf.transform(X_train)\n",
    "X_test=tf.transform(X_test)"
   ]
  },
  {
   "cell_type": "code",
   "execution_count": 37,
   "id": "cabaa2a2",
   "metadata": {},
   "outputs": [
    {
     "name": "stdout",
     "output_type": "stream",
     "text": [
      "               precision    recall  f1-score   support\n",
      "\n",
      "    0-Abusive       0.91      0.66      0.76       491\n",
      "1-Non Abusive       0.98      1.00      0.99      6833\n",
      "\n",
      "     accuracy                           0.97      7324\n",
      "    macro avg       0.95      0.83      0.87      7324\n",
      " weighted avg       0.97      0.97      0.97      7324\n",
      "\n"
     ]
    }
   ],
   "source": [
    "lsvc= LinearSVC()\n",
    "lsvc.fit(X_train,y_train)\n",
    "\n",
    "lsvc_pred= lsvc.predict(X_test)\n",
    "\n",
    "names=['0-Abusive','1-Non Abusive']\n",
    "print(classification_report(y_test1, lsvc_pred,target_names=names))"
   ]
  },
  {
   "cell_type": "markdown",
   "id": "3d253b56",
   "metadata": {},
   "source": [
    "### So with LSVC model we are getting precision of 0.91 and recall 0.66 for abusive class"
   ]
  },
  {
   "cell_type": "code",
   "execution_count": null,
   "id": "3e5830b8",
   "metadata": {},
   "outputs": [],
   "source": []
  }
 ],
 "metadata": {
  "kernelspec": {
   "display_name": "Python 3 (ipykernel)",
   "language": "python",
   "name": "python3"
  },
  "language_info": {
   "codemirror_mode": {
    "name": "ipython",
    "version": 3
   },
   "file_extension": ".py",
   "mimetype": "text/x-python",
   "name": "python",
   "nbconvert_exporter": "python",
   "pygments_lexer": "ipython3",
   "version": "3.8.3"
  }
 },
 "nbformat": 4,
 "nbformat_minor": 5
}
